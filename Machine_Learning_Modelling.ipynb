{
 "cells": [
  {
   "cell_type": "markdown",
   "id": "cd05b2f6",
   "metadata": {},
   "source": [
    "# Bioinformatics Project - Computational Drug Discovery - Influenza virus A matrix protein M2 - Extension - Influenza virus A Organism  \n",
    "Michael Bahchevanov  \n",
    "***"
   ]
  },
  {
   "cell_type": "markdown",
   "id": "ace16f39",
   "metadata": {},
   "source": [
    "## Machine Learning Notebook 📔  \n",
    "This is **Modelling Notebook** where we will be looking into optimizing and applying several machine learning techniques. We will be looking into a **RMT (Random Matrix Theory)** insprired model (that we have implemented as a part of the internal library). We will also be optimizing the **KNeighbours Regressor**. This will be done by using an **ANN** (Artificial Neural Network). Finally, we will be looking into **LSTM (Long short-term memory)** and whether it would provide better results than our regressor.\n",
    "The goal of this notebook is to experiment with different ML techniques and find the most performing model on our extended dataset for the *Influenza virus A Organism*."
   ]
  },
  {
   "cell_type": "markdown",
   "id": "1289d396",
   "metadata": {},
   "source": [
    "### 1. Random Matrix Theory Inspired Model 🎞"
   ]
  },
  {
   "cell_type": "markdown",
   "id": "e2dc6b4c",
   "metadata": {},
   "source": [
    "#### 1.1 Importing Libraries and Tooling 🧪  \n",
    "For the **RMT** model we have implemented our own version of the algorithms inside our internal library. We will be using our internal **RMTClassifier** for modelling, **numpy** for computation, and **pandas** for data wrangling."
   ]
  },
  {
   "cell_type": "code",
   "execution_count": 1,
   "id": "2802c11d",
   "metadata": {},
   "outputs": [],
   "source": [
    "from lib.models import RMTClassifier\n",
    "import numpy as np\n",
    "import pandas as pd\n",
    "\n",
    "import warnings\n",
    "warnings.filterwarnings('ignore')\n",
    "\n",
    "np.random.seed(42)"
   ]
  },
  {
   "cell_type": "markdown",
   "id": "60a345d4",
   "metadata": {},
   "source": [
    "#### 1.2 Loading and splitting the data ✂  \n",
    "We will be using **sklearn's** `train_test_split` for splitting our data into a 95-5 fashion (95% training, 5% testing). We have chosen that since we will be working with *2048* features (because of the **Morgan fingerprint vector** of length 2048) that would be outputting a single *pEC50* measurement."
   ]
  },
  {
   "cell_type": "code",
   "execution_count": 2,
   "id": "91a2a5e6",
   "metadata": {},
   "outputs": [],
   "source": [
    "from sklearn.model_selection import train_test_split\n",
    "\n",
    "df = pd.read_csv('./data/influenza_05_morgan_matrix_fingerprint_pEC50.csv')\n",
    "df_decoy = pd.read_csv('./data/5HT1A_02_morgan_matrix.csv')\n",
    "df_decoy = df_decoy.to_numpy()\n",
    "X = df.drop('pEC50', axis=1)\n",
    "y = df['pEC50']\n",
    "X_train, X_test, y_train, y_test = train_test_split(X, y, test_size=.05, train_size=.95)\n",
    "X_train, X_test, y_train, y_test = X_train.to_numpy(), X_test.to_numpy(), y_train.to_numpy(), y_test.to_numpy()"
   ]
  },
  {
   "cell_type": "markdown",
   "id": "243677b8",
   "metadata": {},
   "source": [
    "#### 1.3 Training the model and evaluating the results 📝  \n",
    "Firstly, we will train the model on our training dataset. Next, we are going to look into the *false positives* and *true positives* by looking into the *ROC Curve* (Receiver Operating Characteristic). The metric we will be using to evaluate our success would be the *AUC* (Area Under the ROC Curve)."
   ]
  },
  {
   "cell_type": "code",
   "execution_count": 3,
   "id": "29c98922",
   "metadata": {},
   "outputs": [],
   "source": [
    "clf = RMTClassifier()\n",
    "clf.fit(X_train)"
   ]
  },
  {
   "cell_type": "markdown",
   "id": "9ba1d22b",
   "metadata": {},
   "source": [
    "This function is going to run the classifier on both the decoy and the testing set."
   ]
  },
  {
   "cell_type": "code",
   "execution_count": 4,
   "id": "50846f68",
   "metadata": {},
   "outputs": [],
   "source": [
    "def false_positive_true_positive(clf, multiple):\n",
    "    test_preds = clf.predict(X_test, epsilon_multiple=multiple)\n",
    "    decoy_preds = clf.predict(df_decoy, epsilon_multiple=multiple)\n",
    "    tp = np.mean(test_preds)\n",
    "    fp = np.mean(decoy_preds)\n",
    "    return tp, fp"
   ]
  },
  {
   "cell_type": "markdown",
   "id": "75a9fa4a",
   "metadata": {},
   "source": [
    "Now we are going to prepare the ***x*** - false positives and ***y*** - true positives."
   ]
  },
  {
   "cell_type": "code",
   "execution_count": 5,
   "id": "a794e1fd",
   "metadata": {},
   "outputs": [
    {
     "name": "stdout",
     "output_type": "stream",
     "text": [
      "progress:4%\n",
      "progress:16%\n",
      "progress:28%\n",
      "progress:40%\n",
      "progress:52%\n",
      "progress:64%\n",
      "progress:76%\n",
      "progress:88%\n",
      "progress:100%\n"
     ]
    }
   ],
   "source": [
    "x, y = [], []\n",
    "\n",
    "for idx, val in enumerate(np.linspace(0.4,2,25)):\n",
    "    if idx%3==0:\n",
    "        print(f'progress:{(idx+1)* 4}%')\n",
    "    fp, tp = false_positive_true_positive(clf, val)\n",
    "    x.append(fp)\n",
    "    y.append(tp)"
   ]
  },
  {
   "cell_type": "markdown",
   "id": "b80364eb",
   "metadata": {},
   "source": [
    "Now we are going to import the *AUC* metric from *sklearn* and view our results."
   ]
  },
  {
   "cell_type": "code",
   "execution_count": 6,
   "id": "12439752",
   "metadata": {},
   "outputs": [
    {
     "data": {
      "text/plain": [
       "0.38"
      ]
     },
     "execution_count": 6,
     "metadata": {},
     "output_type": "execute_result"
    }
   ],
   "source": [
    "from sklearn.metrics import auc\n",
    "\n",
    "AUC = auc(x, y)\n",
    "AUC = round(AUC, 2); AUC"
   ]
  },
  {
   "cell_type": "markdown",
   "id": "494059ea",
   "metadata": {},
   "source": [
    "Unfortunately, a result of *0.38* is unsatisfactory. Now we are going to visualize it to see why does it not work well.  \n",
    "We are importing *matplotlib's* `pyplot` in order to visualize our results."
   ]
  },
  {
   "cell_type": "code",
   "execution_count": 7,
   "id": "67dd5728",
   "metadata": {},
   "outputs": [],
   "source": [
    "import matplotlib.pyplot as plt"
   ]
  },
  {
   "cell_type": "code",
   "execution_count": 8,
   "id": "d2b50ee6",
   "metadata": {
    "scrolled": true
   },
   "outputs": [
    {
     "data": {
      "image/png": "[encoded data removed]",
      "text/plain": [
       "<Figure size 432x288 with 1 Axes>"
      ]
     },
     "metadata": {
      "needs_background": "light"
     },
     "output_type": "display_data"
    }
   ],
   "source": [
    "fig = plt.figure()\n",
    "ax = fig.add_subplot(111)\n",
    "fig.subplots_adjust(top=0.85)\n",
    "ax.set_title('Receiver Operating Characteristic (ROC) Curve')\n",
    "ax.set_xlabel('False Positive')\n",
    "ax.set_ylabel('True Positive')\n",
    "ax.text(0.76, 0.15, f'AUC: {AUC}', style='italic', bbox={'facecolor': 'green', 'alpha': 0.5, 'pad': 10})\n",
    "ax.plot(x, y)\n",
    "ax.plot(np.linspace(0,1,100), np.linspace(0,1,100), '--')\n",
    "ax.axis([0,1,0,1])\n",
    "plt.show()"
   ]
  },
  {
   "cell_type": "markdown",
   "id": "0742ceb8",
   "metadata": {},
   "source": [
    "#### 1.4 Interpretation of the results ✔  \n",
    "We have trained our model using the **RMT Classifier** with very little success. The model proved to not yield good results for our case. The model predicted the correct results hardly ever with the majority of the predictions falling below the *ROC Curve*.  \n",
    "The next model we are going to try would be a *neural network regressor*."
   ]
  },
  {
   "cell_type": "markdown",
   "id": "fcdaef51",
   "metadata": {},
   "source": [
    "### 2. Neural Network Regressor 🧠"
   ]
  },
  {
   "cell_type": "markdown",
   "id": "0f195961",
   "metadata": {},
   "source": [
    "#### 2.1 Importing Libraries and Tooling 🧪  \n",
    "For this model we will be using *keras* -  a high-level deep learning library. We will also be optimizing our model using *sklearn's* tooling. The measurement of success would be a low **RMSE** score."
   ]
  },
  {
   "cell_type": "code",
   "execution_count": 9,
   "id": "c51ffe4d",
   "metadata": {},
   "outputs": [],
   "source": [
    "from keras.models import Sequential\n",
    "from keras.layers import Dense, Dropout\n",
    "from keras.wrappers.scikit_learn import KerasRegressor\n",
    "from keras.metrics import RootMeanSquaredError\n",
    "from sklearn.model_selection import GridSearchCV\n",
    "from sklearn.model_selection import cross_val_score\n",
    "from sklearn.model_selection import KFold\n",
    "from sklearn.feature_selection import VarianceThreshold"
   ]
  },
  {
   "cell_type": "markdown",
   "id": "ef945566",
   "metadata": {},
   "source": [
    "#### 2.2 Feature Selection 🔎"
   ]
  },
  {
   "cell_type": "markdown",
   "id": "af440870",
   "metadata": {},
   "source": [
    "Firstly, we are going to select only the features with significant variance and drop the low variance ones."
   ]
  },
  {
   "cell_type": "code",
   "execution_count": 10,
   "id": "58c9ae75",
   "metadata": {},
   "outputs": [],
   "source": [
    "transformer = VarianceThreshold(threshold=(.8 * (1 - .8)))\n",
    "X_train, X_test = transformer.fit_transform(X_train), transformer.transform(X_test)"
   ]
  },
  {
   "cell_type": "code",
   "execution_count": 11,
   "id": "34403648",
   "metadata": {},
   "outputs": [
    {
     "data": {
      "text/plain": [
       "(864, 28)"
      ]
     },
     "execution_count": 11,
     "metadata": {},
     "output_type": "execute_result"
    }
   ],
   "source": [
    "X_train.shape"
   ]
  },
  {
   "cell_type": "markdown",
   "id": "6c324e7b",
   "metadata": {},
   "source": [
    "#### 2.3 Model Optimization ⚙"
   ]
  },
  {
   "cell_type": "markdown",
   "id": "bb4c5681",
   "metadata": {},
   "source": [
    "We will be training a linear model that has 3 dense and 1 droupout layer. The first layer is going to hold the features from the **Morgan vector** and the final layer is going to output our **pEC50** value. The dropout layer is going to serve as our over-fitting measure. The neural network is going to be built around the *keras* wrapper for *scikit-learn*. We will be performing *GridSearchCV* for cross-validation looking into different activation functions, neuron numbers, and optimizers."
   ]
  },
  {
   "cell_type": "code",
   "execution_count": 12,
   "id": "beefd06f",
   "metadata": {
    "scrolled": false
   },
   "outputs": [
    {
     "name": "stdout",
     "output_type": "stream",
     "text": [
      "Epoch 1/25\n",
      "Epoch 2/25\n",
      "Epoch 3/25\n",
      "Epoch 4/25\n",
      "Epoch 5/25\n",
      "Epoch 6/25\n",
      "Epoch 7/25\n",
      "Epoch 8/25\n",
      "Epoch 9/25\n",
      "Epoch 10/25\n",
      "Epoch 11/25\n",
      "Epoch 12/25\n",
      "Epoch 13/25\n",
      "Epoch 14/25\n",
      "Epoch 15/25\n",
      "Epoch 16/25\n",
      "Epoch 17/25\n",
      "Epoch 18/25\n",
      "Epoch 19/25\n",
      "Epoch 20/25\n",
      "Epoch 21/25\n",
      "Epoch 22/25\n",
      "Epoch 23/25\n",
      "Epoch 24/25\n",
      "Epoch 25/25\n",
      "Max Accuracy Registred: -0.987 using {'activation': 'relu', 'neurons': 512, 'optimizer': 'Adamax'}\n"
     ]
    }
   ],
   "source": [
    "def baseline_model(activation = 'relu', neurons=64, optimizer='Adam'):\n",
    "    model = Sequential()\n",
    "    model.add(Dense(neurons, input_dim=X_train.shape[1], activation=activation, kernel_initializer='normal'))\n",
    "    model.add(Dense(neurons, activation=activation, kernel_initializer='normal'))\n",
    "    model.add(Dropout(0.3))\n",
    "    model.add(Dense(1, kernel_initializer='normal'))\n",
    "    model.compile(loss='mean_squared_error', optimizer=optimizer, metrics=[RootMeanSquaredError()])\n",
    "    return model\n",
    "\n",
    "activation = ['softmax', 'relu', 'linear']\n",
    "neurons = [64, 128, 256, 512, 1024, 2048]\n",
    "optimizer = ['SGD', 'Adam', 'Adamax']\n",
    "param_grid = dict(activation = activation, neurons = neurons, optimizer = optimizer)\n",
    "\n",
    "clf = KerasRegressor(build_fn= baseline_model, epochs= 25, batch_size=10, verbose=10)\n",
    "\n",
    "model = GridSearchCV(estimator=clf, param_grid=param_grid, n_jobs=-1)\n",
    "model.fit(X_train, y_train)\n",
    "\n",
    "print(\"Max Accuracy Registred: {} using {}\".format(round(model.best_score_,3), \n",
    "                                                   model.best_params_))"
   ]
  },
  {
   "cell_type": "markdown",
   "id": "5db829ac",
   "metadata": {},
   "source": [
    "#### 2.4 Model Building and Predictions 🔬  \n",
    "We will be building our model based on the output of our optimization. The metric we are going to measure our success would be the **RMSE**."
   ]
  },
  {
   "cell_type": "code",
   "execution_count": 13,
   "id": "31dd98d2",
   "metadata": {},
   "outputs": [
    {
     "data": {
      "text/plain": [
       "<tensorflow.python.keras.callbacks.History at 0x7f5ef1d8d810>"
      ]
     },
     "execution_count": 13,
     "metadata": {},
     "output_type": "execute_result"
    }
   ],
   "source": [
    "def baseline_model(activation = 'relu', neurons=512, optimizer='Adamax'):\n",
    "    model = Sequential()\n",
    "    model.add(Dense(neurons, input_dim=X_train.shape[1], activation=activation, kernel_initializer='normal'))\n",
    "    model.add(Dense(neurons, activation=activation, kernel_initializer='normal'))\n",
    "    model.add(Dropout(0.3))\n",
    "    model.add(Dense(1, kernel_initializer='normal'))\n",
    "    model.compile(loss='mean_squared_error', optimizer=optimizer, metrics=[RootMeanSquaredError()])\n",
    "    return model\n",
    "\n",
    "clf = KerasRegressor(build_fn= baseline_model, epochs= 25, batch_size=10, verbose=0)\n",
    "clf.fit(X_train, y_train)"
   ]
  },
  {
   "cell_type": "code",
   "execution_count": 14,
   "id": "58bf201f",
   "metadata": {
    "scrolled": true
   },
   "outputs": [
    {
     "data": {
      "text/plain": [
       "array([6.484863 , 3.7291663, 4.4118214, 4.6772375, 3.7655087, 4.9233966,\n",
       "       4.587078 , 6.484863 , 4.8645496, 4.6772375, 7.3299527, 3.9433172,\n",
       "       4.5135736, 4.6885214, 4.314139 , 4.6772375, 9.250116 , 6.0339656,\n",
       "       7.063939 , 4.757699 , 4.0287514, 5.554782 , 6.2677836, 4.930024 ,\n",
       "       4.5209894, 5.462834 , 3.430128 , 4.5296583, 6.2701516, 4.314139 ,\n",
       "       4.4922066, 4.4558473, 5.211657 , 6.133067 , 4.6210213, 5.1566505,\n",
       "       4.9701567, 5.8767157, 3.430128 , 6.2779145, 5.6497455, 4.638637 ,\n",
       "       4.9190764, 4.955092 , 4.70197  , 5.9134884], dtype=float32)"
      ]
     },
     "execution_count": 14,
     "metadata": {},
     "output_type": "execute_result"
    }
   ],
   "source": [
    "y_hat = clf.predict(X_test)\n",
    "y_hat"
   ]
  },
  {
   "cell_type": "code",
   "execution_count": 15,
   "id": "69675e3a",
   "metadata": {},
   "outputs": [
    {
     "data": {
      "text/plain": [
       "'RMSE score: -1.16'"
      ]
     },
     "execution_count": 15,
     "metadata": {},
     "output_type": "execute_result"
    }
   ],
   "source": [
    "'RMSE score: {:.2f}'.format(clf.score(X_test, y_test))"
   ]
  },
  {
   "cell_type": "markdown",
   "id": "03860830",
   "metadata": {},
   "source": [
    "#### 2.5 Visualization and Interpretation 📈"
   ]
  },
  {
   "cell_type": "code",
   "execution_count": 16,
   "id": "19dc8ea1",
   "metadata": {},
   "outputs": [
    {
     "data": {
      "text/plain": [
       "<function matplotlib.pyplot.show(close=None, block=None)>"
      ]
     },
     "execution_count": 16,
     "metadata": {},
     "output_type": "execute_result"
    },
    {
     "data": {
      "image/png": "[encoded data removed]",
      "text/plain": [
       "<Figure size 540x540 with 1 Axes>"
      ]
     },
     "metadata": {},
     "output_type": "display_data"
    }
   ],
   "source": [
    "import seaborn as sns\n",
    "import matplotlib.pyplot as plt\n",
    "\n",
    "sns.set(color_codes=True)\n",
    "sns.set_style('white')\n",
    "\n",
    "ax = sns.regplot(y_test, y_hat, scatter_kws={'alpha': 0.4})\n",
    "ax.set_xlabel('Experimental pEC50', fontsize='large', fontweight='bold')\n",
    "ax.set_ylabel('Predicted pEC50', fontsize='large', fontweight='bold')\n",
    "ax.set_xlim(0, 10)\n",
    "ax.set_ylim(0, 10)\n",
    "ax.figure.set_size_inches(7.5, 7.5)\n",
    "plt.show"
   ]
  },
  {
   "cell_type": "markdown",
   "id": "f4588d75",
   "metadata": {},
   "source": [
    "Overall, we can see that the results are not particularly satisfactory. The regressor does not follow the trend well and with a score of *-1.16* for a logarithmic value, that would not yield good predictions."
   ]
  },
  {
   "cell_type": "markdown",
   "id": "21bd6ac1",
   "metadata": {},
   "source": [
    "### 3. KNeighbors Regressor 🎎  \n",
    "For this model, we will be using *sklearn's* `KNeighborsRegressor`. We will be further optimizing the model using `GridSearchCV` where we will be looking into the different combinations of:  \n",
    "* n_neighbors  \n",
    "* weights  \n",
    "* leaf_size  \n",
    "* p value"
   ]
  },
  {
   "cell_type": "markdown",
   "id": "a444892e",
   "metadata": {},
   "source": [
    "#### 3.1 Importing Libraries and Tooling 🧪  \n",
    "For this model we will be using *sklearn's* `KNeighborsRegressor` so we will be importing that."
   ]
  },
  {
   "cell_type": "code",
   "execution_count": 17,
   "id": "aba40629",
   "metadata": {},
   "outputs": [],
   "source": [
    "from sklearn.neighbors import KNeighborsRegressor"
   ]
  },
  {
   "cell_type": "markdown",
   "id": "d0e37992",
   "metadata": {},
   "source": [
    "#### 3.2 Model Optimization ⚙  \n",
    "We will be optimizing the regressor with a different set of the *n_neighbors*, *weights*, *leaf_size*, and *p* hyperparameters. We will be using `GridSearchCV` to cross-validate the results."
   ]
  },
  {
   "cell_type": "code",
   "execution_count": 18,
   "id": "7959b825",
   "metadata": {},
   "outputs": [
    {
     "data": {
      "text/plain": [
       "GridSearchCV(estimator=KNeighborsRegressor(), n_jobs=-1,\n",
       "             param_grid={'leaf_size': array([ 30,  60,  90, 120, 150, 180, 210, 240, 270]),\n",
       "                         'n_neighbors': array([  5,  30,  55,  80, 105, 130, 155, 180, 205, 230, 255, 280, 305,\n",
       "       330, 355]),\n",
       "                         'p': array([2.        , 2.22222222, 2.44444444, 2.66666667, 2.88888889,\n",
       "       3.11111111, 3.33333333, 3.55555556, 3.77777778, 4.        ]),\n",
       "                         'weights': ['uniform', 'distance']})"
      ]
     },
     "execution_count": 18,
     "metadata": {},
     "output_type": "execute_result"
    }
   ],
   "source": [
    "n_neighbors = np.arange(5, 380, 25)\n",
    "weights = ['uniform', 'distance']\n",
    "leaf_size = np.arange(30, 30*10, 30)\n",
    "p = np.linspace(2.0, 4.0, num=10)\n",
    "param_grid_n=dict(n_neighbors=n_neighbors, weights=weights, leaf_size=leaf_size, p=p)\n",
    "\n",
    "neigh = KNeighborsRegressor()\n",
    "\n",
    "cv = GridSearchCV(estimator=neigh, param_grid=param_grid_n, n_jobs=-1, verbose=0)\n",
    "cv.fit(X_train, y_train)"
   ]
  },
  {
   "cell_type": "code",
   "execution_count": 19,
   "id": "744f8191",
   "metadata": {},
   "outputs": [
    {
     "data": {
      "text/plain": [
       "{'leaf_size': 180, 'n_neighbors': 30, 'p': 2.0, 'weights': 'distance'}"
      ]
     },
     "execution_count": 19,
     "metadata": {},
     "output_type": "execute_result"
    }
   ],
   "source": [
    "cv.best_params_"
   ]
  },
  {
   "cell_type": "markdown",
   "id": "f19da77c",
   "metadata": {},
   "source": [
    "We can see that our best model uses the following parameters:\n",
    "* leaf_size - 180  \n",
    "* n_neighbors - 30  \n",
    "* p - 2.0  \n",
    "* weights - distance"
   ]
  },
  {
   "cell_type": "markdown",
   "id": "984ad92d",
   "metadata": {},
   "source": [
    "#### 3.3 Model Building and Predictions 🔬  \n",
    "We will be building our model based on the output of our optimization. The metric we are going to measure our success would be the **coefficient of determination (R$^{2}$)**."
   ]
  },
  {
   "cell_type": "code",
   "execution_count": 20,
   "id": "c5eb938c",
   "metadata": {
    "scrolled": true
   },
   "outputs": [
    {
     "data": {
      "text/plain": [
       "KNeighborsRegressor(leaf_size=180, n_neighbors=30, weights='distance')"
      ]
     },
     "execution_count": 20,
     "metadata": {},
     "output_type": "execute_result"
    }
   ],
   "source": [
    "clf = KNeighborsRegressor(leaf_size=180, n_neighbors=30, p=2, weights='distance')\n",
    "clf.fit(X_train, y_train)"
   ]
  },
  {
   "cell_type": "code",
   "execution_count": 21,
   "id": "04e37b42",
   "metadata": {},
   "outputs": [
    {
     "data": {
      "text/plain": [
       "array([6.70889013, 4.        , 4.18980287, 4.89977061, 4.21193265,\n",
       "       5.05729262, 4.05551733, 6.70889013, 4.92218894, 4.89977061,\n",
       "       7.40911318, 4.        , 4.65814601, 5.09691001, 4.89794001,\n",
       "       4.89977061, 9.38866762, 5.57268251, 7.70215402, 5.41495705,\n",
       "       4.        , 5.814586  , 6.32990001, 5.042109  , 5.18311889,\n",
       "       4.84216386, 3.53293846, 4.652168  , 6.36668534, 4.89794001,\n",
       "       4.61880393, 4.82665018, 5.67957805, 5.81254638, 4.48203419,\n",
       "       6.37472699, 5.76499735, 5.6730117 , 3.53293846, 5.87026279,\n",
       "       5.59024287, 4.33025167, 4.69897   , 5.06103129, 4.52287875,\n",
       "       6.10334564])"
      ]
     },
     "execution_count": 21,
     "metadata": {},
     "output_type": "execute_result"
    }
   ],
   "source": [
    "y_hat = clf.predict(X_test)\n",
    "y_hat"
   ]
  },
  {
   "cell_type": "code",
   "execution_count": 22,
   "id": "ee75c6f0",
   "metadata": {},
   "outputs": [
    {
     "data": {
      "text/plain": [
       "0.5664406204771189"
      ]
     },
     "execution_count": 22,
     "metadata": {},
     "output_type": "execute_result"
    }
   ],
   "source": [
    "r2 = clf.score(X_test, y_test)\n",
    "r2"
   ]
  },
  {
   "cell_type": "markdown",
   "id": "52dc06fe",
   "metadata": {},
   "source": [
    "#### 3.4 Visualization and Interpretation 📈"
   ]
  },
  {
   "cell_type": "code",
   "execution_count": 23,
   "id": "5e3ee376",
   "metadata": {},
   "outputs": [
    {
     "data": {
      "text/plain": [
       "<function matplotlib.pyplot.show(close=None, block=None)>"
      ]
     },
     "execution_count": 23,
     "metadata": {},
     "output_type": "execute_result"
    },
    {
     "data": {
      "image/png": "[encoded data removed]",
      "text/plain": [
       "<Figure size 540x540 with 1 Axes>"
      ]
     },
     "metadata": {},
     "output_type": "display_data"
    }
   ],
   "source": [
    "ax = sns.regplot(y_test, y_hat, scatter_kws={'alpha': 0.4})\n",
    "ax.set_xlabel('Experimental pEC50', fontsize='large', fontweight='bold')\n",
    "ax.set_ylabel('Predicted pEC50', fontsize='large', fontweight='bold')\n",
    "ax.set_xlim(0, 10)\n",
    "ax.set_ylim(0, 10)\n",
    "ax.figure.set_size_inches(7.5, 7.5)\n",
    "plt.show"
   ]
  },
  {
   "cell_type": "markdown",
   "id": "f6a31b6c",
   "metadata": {},
   "source": [
    "Overall, this model provides satisfactory results, as it has moderate positive R$^{2}$ score and follows the trend. (or at least better than our *neural network regressor*). This model could be used for further drug discovery."
   ]
  },
  {
   "cell_type": "markdown",
   "id": "0bbd5068",
   "metadata": {},
   "source": [
    "## Conclusion  \n",
    "From our modelling experiments, we found a suitable model that could predict a possible bioactive compound that would inhibit our target (*Influenza virus A Organism*) - *KNeighbors Regressor*. These models are by no means suited for production and do not provide significant results. Causes of the results may be due to:\n",
    "* process execution  \n",
    "* quality of the data  \n",
    "* quantity of the data  \n",
    "* possible little bioavailability of the compounds\n",
    "***  \n",
    "The process we have gone through shows that some methods are better than others, but overall the usage of any of these models should not be taken as a ground truth as the they are relatively off by a moderate/large margin."
   ]
  },
  {
   "cell_type": "markdown",
   "id": "12c168df",
   "metadata": {},
   "source": [
    "***  \n",
    "## EXTRA  \n",
    "### 1. Generation of a molecule based on SMILES with LSTM  \n",
    "In this extra of this notebook, we will be attempting to generate a molecularly similar compound based on an already discovered bioactive compound against the *Influenza virus A*. This drug is called ***Amantadine*** which is a clinically and historically proven compound that is used for treatment and prevention of the virus' infection. We will be using a **RNN (Recurrent Neural Network) - LSTM (Long short-term memory)**. "
   ]
  },
  {
   "cell_type": "code",
   "execution_count": 24,
   "id": "9b00ae79",
   "metadata": {},
   "outputs": [],
   "source": [
    "from rdkit import Chem\n",
    "from rdkit.Chem import Draw\n",
    "import matplotlib.pyplot as plt\n",
    "%matplotlib inline"
   ]
  },
  {
   "cell_type": "code",
   "execution_count": 25,
   "id": "4d81b6a3",
   "metadata": {},
   "outputs": [
    {
     "data": {
      "image/png": "[encoded data removed]",
      "text/plain": [
       "<Figure size 144x144 with 1 Axes>"
      ]
     },
     "metadata": {
      "needs_background": "light"
     },
     "output_type": "display_data"
    }
   ],
   "source": [
    "amantadine_smiles = 'C1C2CC3CC1CC(C2)(C3)N'\n",
    "amantadine = Chem.MolFromSmiles(amantadine_smiles)\n",
    "\n",
    "Draw.MolToMPL(amantadine, size=(200, 200));"
   ]
  },
  {
   "cell_type": "code",
   "execution_count": 26,
   "id": "5cdf5c3e",
   "metadata": {},
   "outputs": [],
   "source": [
    "def char_to_int(smiles):\n",
    "    unique_chars = sorted(list(set(smiles)))\n",
    "    char_to_int = dict((c, i) for i, c in enumerate(unique_chars))\n",
    "    char_to_int.update({-1 : \"\\n\"})\n",
    "    return char_to_int"
   ]
  },
  {
   "cell_type": "code",
   "execution_count": 27,
   "id": "ac90e793",
   "metadata": {},
   "outputs": [
    {
     "data": {
      "text/plain": [
       "{'(': 0, ')': 1, '1': 2, '2': 3, '3': 4, 'C': 5, 'N': 6, -1: '\\n'}"
      ]
     },
     "execution_count": 27,
     "metadata": {},
     "output_type": "execute_result"
    }
   ],
   "source": [
    "raw = char_to_int(amantadine_smiles)\n",
    "raw"
   ]
  },
  {
   "cell_type": "code",
   "execution_count": 28,
   "id": "6f7c769d",
   "metadata": {},
   "outputs": [],
   "source": [
    "n_chars = len(raw)"
   ]
  },
  {
   "cell_type": "code",
   "execution_count": 29,
   "id": "b3743f67",
   "metadata": {},
   "outputs": [],
   "source": [
    "# X = []\n",
    "# y = []\n",
    "# for i in range(0, n_chars - seq_length, 1):\n",
    "#     seq_in = raw_text[i:i + seq_length]\n",
    "#     seq_out = raw_text[i + seq_length]\n",
    "#     X.append([char_to_int[char] for char in seq_in])\n",
    "#     y.append(char_to_int[seq_out])"
   ]
  }
 ],
 "metadata": {
  "kernelspec": {
   "display_name": "Python 3",
   "language": "python",
   "name": "python3"
  },
  "language_info": {
   "codemirror_mode": {
    "name": "ipython",
    "version": 3
   },
   "file_extension": ".py",
   "mimetype": "text/x-python",
   "name": "python",
   "nbconvert_exporter": "python",
   "pygments_lexer": "ipython3",
   "version": "3.7.10"
  }
 },
 "nbformat": 4,
 "nbformat_minor": 5
}
