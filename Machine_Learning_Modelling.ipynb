{
 "cells": [
  {
   "cell_type": "markdown",
   "id": "3de63e1f",
   "metadata": {},
   "source": [
    "# Bioinformatics Project - Computational Drug Discovery - Influenza virus A matrix protein M2 - Extension - Influenza virus A Organism  \n",
    "Michael Bahchevanov  \n",
    "***"
   ]
  },
  {
   "cell_type": "markdown",
   "id": "dd0e1b77",
   "metadata": {},
   "source": [
    "## Machine Learning Notebook 📔  \n",
    "This is **Modelling Notebook** where we will be looking into optimizing and applying several machine learning techniques. We will be looking into a **RMT (Random Matrix Theory)** insprired model (that we have implemented as a part of the internal library). We will also be optimizing the **KNeighbours Regressor**. This will be done by using an **ANN** (Artificial Neural Network). Finally, we will be looking into **LSTM (Long short-term memory)** and whether it would provide better results than our regressor.\n",
    "The goal of this notebook is to experiment with different ML techniques and find the most performing model on our extended dataset for the *Influenza virus A Organism*."
   ]
  },
  {
   "cell_type": "markdown",
   "id": "02fb3525",
   "metadata": {},
   "source": [
    "### 1. Random Matrix Theory Inspired Model 🎞"
   ]
  },
  {
   "cell_type": "markdown",
   "id": "33290d6c",
   "metadata": {},
   "source": [
    "#### 1.1 Importing Libraries and Tooling 🧪  \n",
    "For the **RMT** model we have implemented our own version of the algorithms inside our internal library. We will be using our internal **RMTClassifier** for modelling, **numpy** for computation, and **pandas** for data wrangling."
   ]
  },
  {
   "cell_type": "code",
   "execution_count": 7,
   "id": "6f446104",
   "metadata": {},
   "outputs": [],
   "source": [
    "from lib.models import RMTClassifier\n",
    "import numpy as np\n",
    "import pandas as pd\n",
    "\n",
    "import warnings\n",
    "warnings.filterwarnings('ignore')\n",
    "\n",
    "np.random.seed(42)"
   ]
  },
  {
   "cell_type": "markdown",
   "id": "eec7d189",
   "metadata": {},
   "source": [
    "#### 1.2 Loading and splitting the data ✂  \n",
    "We will be using **sklearn's** `train_test_split` for splitting our data into a 95-5 fashion (95% training, 5% testing). We have chosen that since we will be working with *2048* features (because of the **Morgan fingerprint vector** of length 2048) that would be outputting a single *pEC50* measurement."
   ]
  },
  {
   "cell_type": "code",
   "execution_count": 2,
   "id": "ce4b925f",
   "metadata": {},
   "outputs": [],
   "source": [
    "from sklearn.model_selection import train_test_split\n",
    "\n",
    "df = pd.read_csv('./data/influenza_05_morgan_matrix_fingerprint_pEC50.csv')\n",
    "df_decoy = pd.read_csv('./data/5HT1A_02_morgan_matrix.csv')\n",
    "df_decoy = df_decoy.to_numpy()\n",
    "X = df.drop('pEC50', axis=1)\n",
    "y = df['pEC50']\n",
    "X_train, X_test, y_train, y_test = train_test_split(X, y, test_size=.05, train_size=.95)\n",
    "X_train, X_test, y_train, y_test = X_train.to_numpy(), X_test.to_numpy(), y_train.to_numpy(), y_test.to_numpy()"
   ]
  },
  {
   "cell_type": "markdown",
   "id": "184fc3f5",
   "metadata": {},
   "source": [
    "#### 1.3 Training the model and evaluating the results 📝  \n",
    "Firstly, we will train the model on our training dataset. Next, we are going to look into the *false positives* and *true positives* by looking into the *ROC Curve* (Receiver Operating Characteristic). The metric we will be using to evaluate our success would be the *AUC* (Area Under the ROC Curve)."
   ]
  },
  {
   "cell_type": "code",
   "execution_count": 3,
   "id": "c4bd3f0a",
   "metadata": {},
   "outputs": [],
   "source": [
    "clf = RMTClassifier()\n",
    "clf.fit(X_train)"
   ]
  },
  {
   "cell_type": "markdown",
   "id": "06fc9f74",
   "metadata": {},
   "source": [
    "This function is going to run the classifier on both the decoy and the testing set."
   ]
  },
  {
   "cell_type": "code",
   "execution_count": 4,
   "id": "d5bed504",
   "metadata": {},
   "outputs": [],
   "source": [
    "def false_positive_true_positive(clf, multiple):\n",
    "    test_preds = clf.predict(X_test, epsilon_multiple=multiple)\n",
    "    decoy_preds = clf.predict(df_decoy, epsilon_multiple=multiple)\n",
    "    tp = np.mean(test_preds)\n",
    "    fp = np.mean(decoy_preds)\n",
    "    return tp, fp"
   ]
  },
  {
   "cell_type": "markdown",
   "id": "68a3d840",
   "metadata": {},
   "source": [
    "Now we are going to prepare the ***x*** - false positives and ***y*** - true positives."
   ]
  },
  {
   "cell_type": "code",
   "execution_count": 5,
   "id": "9d25db78",
   "metadata": {},
   "outputs": [
    {
     "name": "stdout",
     "output_type": "stream",
     "text": [
      "progress:4%\n",
      "progress:16%\n",
      "progress:28%\n",
      "progress:40%\n",
      "progress:52%\n",
      "progress:64%\n",
      "progress:76%\n",
      "progress:88%\n",
      "progress:100%\n"
     ]
    }
   ],
   "source": [
    "x, y = [], []\n",
    "\n",
    "for idx, val in enumerate(np.linspace(0.4,2,25)):\n",
    "    if idx%3==0:\n",
    "        print(f'progress:{(idx+1)* 4}%')\n",
    "    fp, tp = false_positive_true_positive(clf, val)\n",
    "    x.append(fp)\n",
    "    y.append(tp)"
   ]
  },
  {
   "cell_type": "markdown",
   "id": "fc20dee7",
   "metadata": {},
   "source": [
    "Now we are going to import the *AUC* metric from *sklearn* and view our results."
   ]
  },
  {
   "cell_type": "code",
   "execution_count": 6,
   "id": "e61b606a",
   "metadata": {},
   "outputs": [
    {
     "data": {
      "text/plain": [
       "0.38"
      ]
     },
     "execution_count": 6,
     "metadata": {},
     "output_type": "execute_result"
    }
   ],
   "source": [
    "from sklearn.metrics import auc\n",
    "\n",
    "AUC = auc(x, y)\n",
    "AUC = round(AUC, 2); AUC"
   ]
  },
  {
   "cell_type": "markdown",
   "id": "a28af699",
   "metadata": {},
   "source": [
    "Unfortunately, a result of *0.38* is unsatisfactory. Now we are going to visualize it to see why does it not work well.  \n",
    "We are importing *matplotlib's* `pyplot` in order to visualize our results."
   ]
  },
  {
   "cell_type": "code",
   "execution_count": 7,
   "id": "ce11ed39",
   "metadata": {},
   "outputs": [],
   "source": [
    "import matplotlib.pyplot as plt"
   ]
  },
  {
   "cell_type": "code",
   "execution_count": 8,
   "id": "244615ef",
   "metadata": {
    "scrolled": true
   },
   "outputs": [
    {
     "data": {
      "image/png": "[encoded data removed]",
      "text/plain": [
       "<Figure size 432x288 with 1 Axes>"
      ]
     },
     "metadata": {
      "needs_background": "light"
     },
     "output_type": "display_data"
    }
   ],
   "source": [
    "fig = plt.figure()\n",
    "ax = fig.add_subplot(111)\n",
    "fig.subplots_adjust(top=0.85)\n",
    "ax.set_title('Receiver Operating Characteristic (ROC) Curve')\n",
    "ax.set_xlabel('False Positive')\n",
    "ax.set_ylabel('True Positive')\n",
    "ax.text(0.76, 0.15, f'AUC: {AUC}', style='italic', bbox={'facecolor': 'green', 'alpha': 0.5, 'pad': 10})\n",
    "ax.plot(x, y)\n",
    "ax.plot(np.linspace(0,1,100), np.linspace(0,1,100), '--')\n",
    "ax.axis([0,1,0,1])\n",
    "plt.show()"
   ]
  },
  {
   "cell_type": "markdown",
   "id": "35d9e964",
   "metadata": {},
   "source": [
    "#### 1.4 Interpretation of the results ✔  \n",
    "We have trained our model using the **RMT Classifier** with very little success. The model proved to not yield good results for our case. The model predicted the correct results hardly ever with the majority of the predictions falling below the *ROC Curve*.  \n",
    "The next model we are going to try would be a *neural network regressor*."
   ]
  },
  {
   "cell_type": "markdown",
   "id": "ae8e575f",
   "metadata": {},
   "source": [
    "### 2. Neural Network Regressor 🧠"
   ]
  },
  {
   "cell_type": "markdown",
   "id": "3ebd7319",
   "metadata": {},
   "source": [
    "#### 2.1 Importing Libraries and Tooling 🧪  \n",
    "For this model we will be using *keras* -  a high-level deep learning library. We will also be optimizing our model using *sklearn's* tooling. The measurement of success would be a low **RMSE** score."
   ]
  },
  {
   "cell_type": "code",
   "execution_count": 9,
   "id": "fc713837",
   "metadata": {},
   "outputs": [],
   "source": [
    "from keras.models import Sequential\n",
    "from keras.layers import Dense, Dropout\n",
    "from keras.wrappers.scikit_learn import KerasRegressor\n",
    "from keras.metrics import RootMeanSquaredError\n",
    "from sklearn.model_selection import GridSearchCV\n",
    "from sklearn.model_selection import cross_val_score\n",
    "from sklearn.model_selection import KFold\n",
    "from sklearn.feature_selection import VarianceThreshold"
   ]
  },
  {
   "cell_type": "markdown",
   "id": "2b25f044",
   "metadata": {},
   "source": [
    "#### 2.2 Feature Selection 🔎"
   ]
  },
  {
   "cell_type": "markdown",
   "id": "f14c1a36",
   "metadata": {},
   "source": [
    "Firstly, we are going to select only the features with significant variance and drop the low variance ones."
   ]
  },
  {
   "cell_type": "code",
   "execution_count": 10,
   "id": "9d8ec75e",
   "metadata": {},
   "outputs": [],
   "source": [
    "transformer = VarianceThreshold(threshold=(.8 * (1 - .8)))\n",
    "X_train, X_test = transformer.fit_transform(X_train), transformer.transform(X_test)"
   ]
  },
  {
   "cell_type": "code",
   "execution_count": 11,
   "id": "f36e7e60",
   "metadata": {},
   "outputs": [
    {
     "data": {
      "text/plain": [
       "(864, 28)"
      ]
     },
     "execution_count": 11,
     "metadata": {},
     "output_type": "execute_result"
    }
   ],
   "source": [
    "X_train.shape"
   ]
  },
  {
   "cell_type": "markdown",
   "id": "1e5a92e3",
   "metadata": {},
   "source": [
    "#### 2.3 Model Optimization ⚙"
   ]
  },
  {
   "cell_type": "markdown",
   "id": "b2bccebe",
   "metadata": {},
   "source": [
    "We will be training a linear model that has 3 dense and 1 droupout layer. The first layer is going to hold the features from the **Morgan vector** and the final layer is going to output our **pEC50** value. The dropout layer is going to serve as our over-fitting measure. The neural network is going to be built around the *keras* wrapper for *scikit-learn*. We will be performing *GridSearchCV* for cross-validation looking into different activation functions, neuron numbers, and optimizers."
   ]
  },
  {
   "cell_type": "code",
   "execution_count": 12,
   "id": "6f956335",
   "metadata": {
    "scrolled": false
   },
   "outputs": [
    {
     "name": "stdout",
     "output_type": "stream",
     "text": [
      "Epoch 1/25\n",
      "Epoch 2/25\n",
      "Epoch 3/25\n",
      "Epoch 4/25\n",
      "Epoch 5/25\n",
      "Epoch 6/25\n",
      "Epoch 7/25\n",
      "Epoch 8/25\n",
      "Epoch 9/25\n",
      "Epoch 10/25\n",
      "Epoch 11/25\n",
      "Epoch 12/25\n",
      "Epoch 13/25\n",
      "Epoch 14/25\n",
      "Epoch 15/25\n",
      "Epoch 16/25\n",
      "Epoch 17/25\n",
      "Epoch 18/25\n",
      "Epoch 19/25\n",
      "Epoch 20/25\n",
      "Epoch 21/25\n",
      "Epoch 22/25\n",
      "Epoch 23/25\n",
      "Epoch 24/25\n",
      "Epoch 25/25\n",
      "Max Accuracy Registred: -1.023 using {'activation': 'relu', 'neurons': 1024, 'optimizer': 'Adamax'}\n"
     ]
    }
   ],
   "source": [
    "def baseline_model(activation = 'relu', neurons=64, optimizer='Adam'):\n",
    "    model = Sequential()\n",
    "    model.add(Dense(neurons, input_dim=X_train.shape[1], activation=activation, kernel_initializer='normal'))\n",
    "    model.add(Dense(neurons, activation=activation, kernel_initializer='normal'))\n",
    "    model.add(Dropout(0.3))\n",
    "    model.add(Dense(1, kernel_initializer='normal'))\n",
    "    model.compile(loss='mean_squared_error', optimizer=optimizer, metrics=[RootMeanSquaredError()])\n",
    "    return model\n",
    "\n",
    "activation = ['softmax', 'relu', 'linear']\n",
    "neurons = [64, 128, 256, 512, 1024, 2048]\n",
    "optimizer = ['SGD', 'Adam', 'Adamax']\n",
    "param_grid = dict(activation = activation, neurons = neurons, optimizer = optimizer)\n",
    "\n",
    "clf = KerasRegressor(build_fn= baseline_model, epochs= 25, batch_size=10, verbose=10)\n",
    "\n",
    "model = GridSearchCV(estimator=clf, param_grid=param_grid, n_jobs=-1)\n",
    "model.fit(X_train, y_train)\n",
    "\n",
    "print(\"Max Accuracy Registred: {} using {}\".format(round(model.best_score_,3), \n",
    "                                                   model.best_params_))"
   ]
  },
  {
   "cell_type": "markdown",
   "id": "58210904",
   "metadata": {},
   "source": [
    "#### 2.4 Model Building and Predictions 🔬  \n",
    "We will be building our model based on the output of our optimization. The metric we are going to measure our success would be the **RMSE**."
   ]
  },
  {
   "cell_type": "code",
   "execution_count": 13,
   "id": "da35b227",
   "metadata": {},
   "outputs": [
    {
     "data": {
      "text/plain": [
       "<tensorflow.python.keras.callbacks.History at 0x7fa1c284de50>"
      ]
     },
     "execution_count": 13,
     "metadata": {},
     "output_type": "execute_result"
    }
   ],
   "source": [
    "def baseline_model(activation = 'relu', neurons=512, optimizer='Adamax'):\n",
    "    model = Sequential()\n",
    "    model.add(Dense(neurons, input_dim=X_train.shape[1], activation=activation, kernel_initializer='normal'))\n",
    "    model.add(Dense(neurons, activation=activation, kernel_initializer='normal'))\n",
    "    model.add(Dropout(0.3))\n",
    "    model.add(Dense(1, kernel_initializer='normal'))\n",
    "    model.compile(loss='mean_squared_error', optimizer=optimizer, metrics=[RootMeanSquaredError()])\n",
    "    return model\n",
    "\n",
    "clf = KerasRegressor(build_fn= baseline_model, epochs= 25, batch_size=10, verbose=0)\n",
    "clf.fit(X_train, y_train)"
   ]
  },
  {
   "cell_type": "code",
   "execution_count": 14,
   "id": "4feecbba",
   "metadata": {
    "scrolled": true
   },
   "outputs": [
    {
     "data": {
      "text/plain": [
       "array([6.9799104, 4.0294147, 4.643439 , 4.7793145, 3.79398  , 5.1208763,\n",
       "       4.5518575, 6.9799104, 5.0600343, 4.7793145, 7.6063585, 4.454056 ,\n",
       "       4.8163276, 4.988112 , 4.589399 , 4.7793145, 9.926537 , 5.735807 ,\n",
       "       7.38298  , 5.3473496, 4.2378426, 5.7982163, 6.041553 , 4.6962776,\n",
       "       4.858948 , 5.740765 , 3.9535346, 4.6345243, 6.594248 , 4.589399 ,\n",
       "       4.5212855, 5.131845 , 5.513848 , 6.526545 , 4.8407407, 5.550877 ,\n",
       "       5.1892858, 5.947947 , 3.9535346, 6.608484 , 5.9796386, 4.629523 ,\n",
       "       5.346094 , 5.255527 , 5.291648 , 6.185536 ], dtype=float32)"
      ]
     },
     "execution_count": 14,
     "metadata": {},
     "output_type": "execute_result"
    }
   ],
   "source": [
    "y_hat = clf.predict(X_test)\n",
    "y_hat"
   ]
  },
  {
   "cell_type": "code",
   "execution_count": 15,
   "id": "67ba5e22",
   "metadata": {},
   "outputs": [
    {
     "data": {
      "text/plain": [
       "'RMSE score: -1.23'"
      ]
     },
     "execution_count": 15,
     "metadata": {},
     "output_type": "execute_result"
    }
   ],
   "source": [
    "'RMSE score: {:.2f}'.format(clf.score(X_test, y_test))"
   ]
  },
  {
   "cell_type": "markdown",
   "id": "89461d0d",
   "metadata": {},
   "source": [
    "#### 2.5 Visualization and Interpretation 📈"
   ]
  },
  {
   "cell_type": "code",
   "execution_count": 16,
   "id": "53dcfddf",
   "metadata": {},
   "outputs": [
    {
     "data": {
      "text/plain": [
       "<function matplotlib.pyplot.show(close=None, block=None)>"
      ]
     },
     "execution_count": 16,
     "metadata": {},
     "output_type": "execute_result"
    },
    {
     "data": {
      "image/png": "[encoded data removed]",
      "text/plain": [
       "<Figure size 540x540 with 1 Axes>"
      ]
     },
     "metadata": {},
     "output_type": "display_data"
    }
   ],
   "source": [
    "import seaborn as sns\n",
    "import matplotlib.pyplot as plt\n",
    "\n",
    "sns.set(color_codes=True)\n",
    "sns.set_style('white')\n",
    "\n",
    "ax = sns.regplot(y_test, y_hat, scatter_kws={'alpha': 0.4})\n",
    "ax.set_xlabel('Experimental pEC50', fontsize='large', fontweight='bold')\n",
    "ax.set_ylabel('Predicted pEC50', fontsize='large', fontweight='bold')\n",
    "ax.set_xlim(0, 10)\n",
    "ax.set_ylim(0, 10)\n",
    "ax.figure.set_size_inches(7.5, 7.5)\n",
    "plt.show"
   ]
  },
  {
   "cell_type": "markdown",
   "id": "5d5e60e8",
   "metadata": {},
   "source": [
    "Overall, we can see that the results are not particularly satisfactory. The regressor does not follow the trend well and with a score of *-1.16* for a logarithmic value, that would not yield good predictions."
   ]
  },
  {
   "cell_type": "markdown",
   "id": "5d8a0222",
   "metadata": {},
   "source": [
    "### 3. KNeighbors Regressor 🎎  \n",
    "For this model, we will be using *sklearn's* `KNeighborsRegressor`. We will be further optimizing the model using `GridSearchCV` where we will be looking into the different combinations of:  \n",
    "* n_neighbors  \n",
    "* weights  \n",
    "* leaf_size  \n",
    "* p value"
   ]
  },
  {
   "cell_type": "markdown",
   "id": "a9352f72",
   "metadata": {},
   "source": [
    "#### 3.1 Importing Libraries and Tooling 🧪  \n",
    "For this model we will be using *sklearn's* `KNeighborsRegressor` so we will be importing that."
   ]
  },
  {
   "cell_type": "code",
   "execution_count": 17,
   "id": "7bff3ecd",
   "metadata": {},
   "outputs": [],
   "source": [
    "from sklearn.neighbors import KNeighborsRegressor"
   ]
  },
  {
   "cell_type": "markdown",
   "id": "4fa059cc",
   "metadata": {},
   "source": [
    "#### 3.2 Model Optimization ⚙  \n",
    "We will be optimizing the regressor with a different set of the *n_neighbors*, *weights*, *leaf_size*, and *p* hyperparameters. We will be using `GridSearchCV` to cross-validate the results."
   ]
  },
  {
   "cell_type": "code",
   "execution_count": 18,
   "id": "ad642478",
   "metadata": {},
   "outputs": [
    {
     "data": {
      "text/plain": [
       "GridSearchCV(estimator=KNeighborsRegressor(), n_jobs=-1,\n",
       "             param_grid={'leaf_size': array([ 30,  60,  90, 120, 150, 180, 210, 240, 270]),\n",
       "                         'n_neighbors': array([  5,  30,  55,  80, 105, 130, 155, 180, 205, 230, 255, 280, 305,\n",
       "       330, 355]),\n",
       "                         'p': array([2.        , 2.22222222, 2.44444444, 2.66666667, 2.88888889,\n",
       "       3.11111111, 3.33333333, 3.55555556, 3.77777778, 4.        ]),\n",
       "                         'weights': ['uniform', 'distance']})"
      ]
     },
     "execution_count": 18,
     "metadata": {},
     "output_type": "execute_result"
    }
   ],
   "source": [
    "n_neighbors = np.arange(5, 380, 25)\n",
    "weights = ['uniform', 'distance']\n",
    "leaf_size = np.arange(30, 30*10, 30)\n",
    "p = np.linspace(2.0, 4.0, num=10)\n",
    "param_grid_n=dict(n_neighbors=n_neighbors, weights=weights, leaf_size=leaf_size, p=p)\n",
    "\n",
    "neigh = KNeighborsRegressor()\n",
    "\n",
    "cv = GridSearchCV(estimator=neigh, param_grid=param_grid_n, n_jobs=-1, verbose=0)\n",
    "cv.fit(X_train, y_train)"
   ]
  },
  {
   "cell_type": "code",
   "execution_count": 19,
   "id": "bb438a1e",
   "metadata": {},
   "outputs": [
    {
     "data": {
      "text/plain": [
       "{'leaf_size': 180, 'n_neighbors': 30, 'p': 2.0, 'weights': 'distance'}"
      ]
     },
     "execution_count": 19,
     "metadata": {},
     "output_type": "execute_result"
    }
   ],
   "source": [
    "cv.best_params_"
   ]
  },
  {
   "cell_type": "markdown",
   "id": "fac1287b",
   "metadata": {},
   "source": [
    "We can see that our best model uses the following parameters:\n",
    "* leaf_size - 180  \n",
    "* n_neighbors - 30  \n",
    "* p - 2.0  \n",
    "* weights - distance"
   ]
  },
  {
   "cell_type": "markdown",
   "id": "afc9a668",
   "metadata": {},
   "source": [
    "#### 3.3 Model Building and Predictions 🔬  \n",
    "We will be building our model based on the output of our optimization. The metric we are going to measure our success would be the **coefficient of determination (R$^{2}$)**."
   ]
  },
  {
   "cell_type": "code",
   "execution_count": 20,
   "id": "5a89e400",
   "metadata": {
    "scrolled": true
   },
   "outputs": [
    {
     "data": {
      "text/plain": [
       "KNeighborsRegressor(leaf_size=180, n_neighbors=30, weights='distance')"
      ]
     },
     "execution_count": 20,
     "metadata": {},
     "output_type": "execute_result"
    }
   ],
   "source": [
    "clf = KNeighborsRegressor(leaf_size=180, n_neighbors=30, p=2, weights='distance')\n",
    "clf.fit(X_train, y_train)"
   ]
  },
  {
   "cell_type": "code",
   "execution_count": 21,
   "id": "ea3019e3",
   "metadata": {},
   "outputs": [
    {
     "data": {
      "text/plain": [
       "array([6.70889013, 4.        , 4.18980287, 4.89977061, 4.21193265,\n",
       "       5.05729262, 4.05551733, 6.70889013, 4.92218894, 4.89977061,\n",
       "       7.40911318, 4.        , 4.65814601, 5.09691001, 4.89794001,\n",
       "       4.89977061, 9.38866762, 5.57268251, 7.70215402, 5.41495705,\n",
       "       4.        , 5.814586  , 6.32990001, 5.042109  , 5.18311889,\n",
       "       4.84216386, 3.53293846, 4.652168  , 6.36668534, 4.89794001,\n",
       "       4.61880393, 4.82665018, 5.67957805, 5.81254638, 4.48203419,\n",
       "       6.37472699, 5.76499735, 5.6730117 , 3.53293846, 5.87026279,\n",
       "       5.59024287, 4.33025167, 4.69897   , 5.06103129, 4.52287875,\n",
       "       6.10334564])"
      ]
     },
     "execution_count": 21,
     "metadata": {},
     "output_type": "execute_result"
    }
   ],
   "source": [
    "y_hat = clf.predict(X_test)\n",
    "y_hat"
   ]
  },
  {
   "cell_type": "code",
   "execution_count": 22,
   "id": "9597d1b2",
   "metadata": {},
   "outputs": [
    {
     "data": {
      "text/plain": [
       "0.5664406204771189"
      ]
     },
     "execution_count": 22,
     "metadata": {},
     "output_type": "execute_result"
    }
   ],
   "source": [
    "r2 = clf.score(X_test, y_test)\n",
    "r2"
   ]
  },
  {
   "cell_type": "markdown",
   "id": "ee59bbfc",
   "metadata": {},
   "source": [
    "#### 3.4 Visualization and Interpretation 📈"
   ]
  },
  {
   "cell_type": "code",
   "execution_count": 23,
   "id": "605f7340",
   "metadata": {},
   "outputs": [
    {
     "data": {
      "text/plain": [
       "<function matplotlib.pyplot.show(close=None, block=None)>"
      ]
     },
     "execution_count": 23,
     "metadata": {},
     "output_type": "execute_result"
    },
    {
     "data": {
      "image/png": "[encoded data removed]",
      "text/plain": [
       "<Figure size 540x540 with 1 Axes>"
      ]
     },
     "metadata": {},
     "output_type": "display_data"
    }
   ],
   "source": [
    "ax = sns.regplot(y_test, y_hat, scatter_kws={'alpha': 0.4})\n",
    "ax.set_xlabel('Experimental pEC50', fontsize='large', fontweight='bold')\n",
    "ax.set_ylabel('Predicted pEC50', fontsize='large', fontweight='bold')\n",
    "ax.set_xlim(0, 10)\n",
    "ax.set_ylim(0, 10)\n",
    "ax.figure.set_size_inches(7.5, 7.5)\n",
    "plt.show"
   ]
  },
  {
   "cell_type": "markdown",
   "id": "ddde3ab5",
   "metadata": {},
   "source": [
    "Overall, this model provides satisfactory results, as it has moderate positive R$^{2}$ score and follows the trend. (or at least better than our *neural network regressor*). This model could be used for further drug discovery."
   ]
  },
  {
   "cell_type": "markdown",
   "id": "49f73a7b",
   "metadata": {},
   "source": [
    "## Conclusion  \n",
    "From our modelling experiments, we found a suitable model that could predict a possible bioactive compound that would inhibit our target (*Influenza virus A Organism*) - *KNeighbors Regressor*. These models are by no means suited for production and do not provide significant results. Causes of the results may be due to:\n",
    "* process execution  \n",
    "* quality of the data  \n",
    "* quantity of the data  \n",
    "* possible little bioavailability of the compounds\n",
    "***  \n",
    "The process we have gone through shows that some methods are better than others, but overall the usage of any of these models should not be taken as a ground truth as the they are relatively off by a moderate/large margin."
   ]
  },
  {
   "cell_type": "markdown",
   "id": "8602170a",
   "metadata": {},
   "source": [
    "***  \n",
    "## EXTRA  \n",
    "### 1. Generation of a molecule based on SMILES with LSTM  \n",
    "In this extra of this notebook, we will be attempting to generate a molecularly similar compound based on an already discovered bioactive compound against the *Influenza virus A*. This drug is called ***Amantadine*** which is a clinically and historically proven compound that is used for treatment and prevention of the virus' infection. We will be using a **RNN (Recurrent Neural Network) - LSTM (Long short-term memory)**. "
   ]
  },
  {
   "cell_type": "code",
   "execution_count": 71,
   "id": "8acbe41d",
   "metadata": {},
   "outputs": [],
   "source": [
    "import sys\n",
    "from rdkit import Chem\n",
    "from rdkit.Chem import Draw\n",
    "import matplotlib.pyplot as plt\n",
    "from keras.models import Sequential, load_model\n",
    "from keras.layers import Dense\n",
    "from keras.layers import Dropout\n",
    "from keras.layers import LSTM\n",
    "from keras.callbacks import ModelCheckpoint\n",
    "from keras.utils import np_utils\n",
    "%matplotlib inline"
   ]
  },
  {
   "cell_type": "code",
   "execution_count": 25,
   "id": "f82a1eff",
   "metadata": {},
   "outputs": [
    {
     "data": {
      "image/png": "[encoded data removed]",
      "text/plain": [
       "<Figure size 144x144 with 1 Axes>"
      ]
     },
     "metadata": {
      "needs_background": "light"
     },
     "output_type": "display_data"
    }
   ],
   "source": [
    "amantadine_smiles = 'C1C2CC3CC1CC(C2)(C3)N'\n",
    "amantadine = Chem.MolFromSmiles(amantadine_smiles)\n",
    "\n",
    "Draw.MolToMPL(amantadine, size=(200, 200));"
   ]
  },
  {
   "cell_type": "markdown",
   "id": "d673cb0d",
   "metadata": {},
   "source": [
    "This is the molecule of the *amantadine* which is a cyclohexane with the *NH$_{2}$* amine group."
   ]
  },
  {
   "cell_type": "markdown",
   "id": "410b03f2",
   "metadata": {},
   "source": [
    "#### 1.1 Cleaning the SMILES data for all molecularly similar compounds"
   ]
  },
  {
   "cell_type": "markdown",
   "id": "3504a4d6",
   "metadata": {},
   "source": [
    "Firstly, we will be loading in the ***SMILES*** notation of *2936* compounds with a structure, similar to the one of the *Amantadine*."
   ]
  },
  {
   "cell_type": "code",
   "execution_count": 76,
   "id": "9cb2f23d",
   "metadata": {
    "scrolled": true
   },
   "outputs": [
    {
     "data": {
      "text/plain": [
       "array(['CCCC(C12CC3CC(C1)CC(C3)C2)N', 'CC12CC3CC(C1)(CC(C3)(C2)C(=O)NO)C',\n",
       "       'CC12CC3CC(C1)(CC(C3)(C2)N)C', ..., 'C1C2CC3CC1CC(C2)(C3)N(N)Cl',\n",
       "       'CC12CC3CC(C1Cl)(CC(C3)(C2)N)C',\n",
       "       'CC(C)(C)NC12CC3CC(C1)CC(C3)(C2)O'], dtype=object)"
      ]
     },
     "execution_count": 76,
     "metadata": {},
     "output_type": "execute_result"
    }
   ],
   "source": [
    "file_path = './data/CID_2130_compound.csv'\n",
    "df = pd.read_csv(file_path)\n",
    "df = df.filter(['mf'])\n",
    "smiles_raw = df.to_numpy().reshape(-1)\n",
    "smiles_raw"
   ]
  },
  {
   "cell_type": "markdown",
   "id": "37af8a18",
   "metadata": {},
   "source": [
    "Now we are going to use a NLP (Natural Language Processing) technique that maps characters to a numeric representation and a reverse map that maps a numeric representation back to characters. We also need to ensure that the length of the mapping and the reverse mapping are the same."
   ]
  },
  {
   "cell_type": "code",
   "execution_count": 86,
   "id": "0114a654",
   "metadata": {},
   "outputs": [],
   "source": [
    "unique_chars = sorted(list(set(smiles_raw)))\n",
    "mapping = dict((c, i) for i, c in enumerate(unique_chars))\n",
    "mapping.update({-1 : \"\\n\"})\n",
    "reverse_mapping = dict((i, c) for i, c in enumerate(unique_chars))\n",
    "reverse_mapping.update({\"\\n\" : -1})\n",
    "mapping_size = len(char_to_int)\n",
    "reverse_mapping_size = len(int_to_char)\n",
    "\n",
    "assert mapping_size == reverse_mapping_size"
   ]
  },
  {
   "cell_type": "code",
   "execution_count": 87,
   "id": "78f6b772",
   "metadata": {},
   "outputs": [
    {
     "data": {
      "text/plain": [
       "(2936, 2758, 2759)"
      ]
     },
     "execution_count": 87,
     "metadata": {},
     "output_type": "execute_result"
    }
   ],
   "source": [
    "n_chars = len(smiles)\n",
    "n_vocab = len(unique_chars)\n",
    "n_chars, n_vocab, mapping_size"
   ]
  },
  {
   "cell_type": "markdown",
   "id": "180aefcc",
   "metadata": {},
   "source": [
    "Now we are going to prepare datasets by matching the dataset lengths. For `dataX` will be the *SMILES* strings and for `dataY` will be the individual characters in the *SMILES* string. We will also be using **5%** of our data for validation and **95%** for training."
   ]
  },
  {
   "cell_type": "code",
   "execution_count": 89,
   "id": "fc429a21",
   "metadata": {},
   "outputs": [],
   "source": [
    "seq_length = int(n_vocab * 0.05)\n",
    "dataX = []\n",
    "dataY = []\n",
    "for i in range(0, n_chars - seq_length, 1):\n",
    "    seq_in = raw_text[i:i + seq_length]\n",
    "    seq_out = raw_text[i + seq_length]\n",
    "    dataX.append([char_to_int[char] for char in seq_in])\n",
    "    dataY.append(char_to_int[seq_out])\n",
    "\n",
    "n_patterns = len(dataX)"
   ]
  },
  {
   "cell_type": "code",
   "execution_count": 90,
   "id": "d48383d8",
   "metadata": {},
   "outputs": [
    {
     "data": {
      "text/plain": [
       "(2799, 2799, 2936)"
      ]
     },
     "execution_count": 90,
     "metadata": {},
     "output_type": "execute_result"
    }
   ],
   "source": [
    "len(dataX), len(dataY), len(raw_text)"
   ]
  },
  {
   "cell_type": "markdown",
   "id": "0e1d590c",
   "metadata": {},
   "source": [
    "Now we will be reshaping our matrix in the dimensions required to create a ***LSTM*** neural network ([samples, time_steps, features]). We are also going to normalize the integers by dividing each of them with the number of unique *SMILES* characters. (in our case - the vocabulary)"
   ]
  },
  {
   "cell_type": "code",
   "execution_count": 19,
   "id": "ec672d81",
   "metadata": {},
   "outputs": [],
   "source": [
    "X = np.reshape(dataX, (n_patterns, seq_length, 1))\n",
    "X = X / float(n_vocab)"
   ]
  },
  {
   "cell_type": "markdown",
   "id": "fa74990e",
   "metadata": {},
   "source": [
    "We will also turn our numerical representation of the vocabulary characters to a categorical variable."
   ]
  },
  {
   "cell_type": "code",
   "execution_count": 91,
   "id": "38711954",
   "metadata": {},
   "outputs": [],
   "source": [
    "Y = np_utils.to_categorical(dataY)"
   ]
  },
  {
   "cell_type": "markdown",
   "id": "61d16bed",
   "metadata": {},
   "source": [
    "#### 1.2 Building the LSTM 🔨  \n",
    "For this neural network, we will be building a multi-layer LSTM. Each layer has decreasing amount of neurons per hidden layer. The model is not fully optimized but as a general rule of thumb, the more neurons, the higher the performance but longer the computation time. The activation function would be *softmax* as to produce the probability (between 0 and 1) of a specific molecule in the structure."
   ]
  },
  {
   "cell_type": "code",
   "execution_count": 32,
   "id": "c1238d40",
   "metadata": {},
   "outputs": [
    {
     "name": "stdout",
     "output_type": "stream",
     "text": [
      "Model: \"sequential_2\"\n",
      "_________________________________________________________________\n",
      "Layer (type)                 Output Shape              Param #   \n",
      "=================================================================\n",
      "lstm (LSTM)                  (None, 137, 128)          66560     \n",
      "_________________________________________________________________\n",
      "dropout_2 (Dropout)          (None, 137, 128)          0         \n",
      "_________________________________________________________________\n",
      "lstm_1 (LSTM)                (None, 137, 256)          394240    \n",
      "_________________________________________________________________\n",
      "dropout_3 (Dropout)          (None, 137, 256)          0         \n",
      "_________________________________________________________________\n",
      "lstm_2 (LSTM)                (None, 137, 512)          1574912   \n",
      "_________________________________________________________________\n",
      "dropout_4 (Dropout)          (None, 137, 512)          0         \n",
      "_________________________________________________________________\n",
      "lstm_3 (LSTM)                (None, 137, 256)          787456    \n",
      "_________________________________________________________________\n",
      "dropout_5 (Dropout)          (None, 137, 256)          0         \n",
      "_________________________________________________________________\n",
      "lstm_4 (LSTM)                (None, 128)               197120    \n",
      "_________________________________________________________________\n",
      "dropout_6 (Dropout)          (None, 128)               0         \n",
      "_________________________________________________________________\n",
      "dense_6 (Dense)              (None, 2758)              355782    \n",
      "=================================================================\n",
      "Total params: 3,376,070\n",
      "Trainable params: 3,376,070\n",
      "Non-trainable params: 0\n",
      "_________________________________________________________________\n",
      "None\n"
     ]
    }
   ],
   "source": [
    "model = Sequential()\n",
    "model.add(LSTM(128, input_shape=(X.shape[1], X.shape[2]), return_sequences = True))\n",
    "model.add(Dropout(0.2))\n",
    "model.add(LSTM(256, return_sequences = True))\n",
    "model.add(Dropout(0.2))\n",
    "model.add(LSTM(512, return_sequences = True))\n",
    "model.add(Dropout(0.2))\n",
    "model.add(LSTM(256, return_sequences = True))\n",
    "model.add(Dropout(0.2))\n",
    "model.add(LSTM(128))\n",
    "model.add(Dropout(0.2))\n",
    "model.add(Dense(Y.shape[1], activation='softmax'))\n",
    "\n",
    "print(model.summary())"
   ]
  },
  {
   "cell_type": "code",
   "execution_count": 33,
   "id": "65efebee",
   "metadata": {},
   "outputs": [],
   "source": [
    "model.compile(loss='categorical_crossentropy', optimizer='adam')"
   ]
  },
  {
   "cell_type": "markdown",
   "id": "46c7e2ef",
   "metadata": {},
   "source": [
    "As the model would take a long time to train, and my hardware is perfectly suited for heavy computations, we will be using checkpoints to train the model. We will start with a bigger batch size and decrease the batch size every other training session (which drastically increases the computation time but provides a better accuracy)."
   ]
  },
  {
   "cell_type": "code",
   "execution_count": 34,
   "id": "392cc6f2",
   "metadata": {
    "scrolled": false
   },
   "outputs": [
    {
     "name": "stdout",
     "output_type": "stream",
     "text": [
      "Epoch 1/19\n",
      "6/6 [==============================] - 219s 18s/step - loss: 7.9233\n",
      "\n",
      "Epoch 00001: loss improved from inf to 7.92370, saving model to ./data/weights-improvement-01-7.9237.hdf5\n",
      "Epoch 2/19\n",
      "6/6 [==============================] - 86s 13s/step - loss: 7.9236\n",
      "\n",
      "Epoch 00002: loss improved from 7.92370 to 7.92283, saving model to ./data/weights-improvement-02-7.9228.hdf5\n",
      "Epoch 3/19\n",
      "6/6 [==============================] - 112s 13s/step - loss: 7.9240\n",
      "\n",
      "Epoch 00003: loss did not improve from 7.92283\n",
      "Epoch 4/19\n",
      "6/6 [==============================] - 85s 14s/step - loss: 7.9319\n",
      "\n",
      "Epoch 00004: loss did not improve from 7.92283\n",
      "Epoch 5/19\n",
      "6/6 [==============================] - 86s 14s/step - loss: 7.9245\n",
      "\n",
      "Epoch 00005: loss did not improve from 7.92283\n",
      "Epoch 6/19\n",
      "6/6 [==============================] - 83s 14s/step - loss: 7.9210\n",
      "\n",
      "Epoch 00006: loss improved from 7.92283 to 7.92231, saving model to ./data/weights-improvement-06-7.9223.hdf5\n",
      "Epoch 7/19\n",
      "6/6 [==============================] - 77s 12s/step - loss: 7.9351\n",
      "\n",
      "Epoch 00007: loss did not improve from 7.92231\n",
      "Epoch 8/19\n",
      "6/6 [==============================] - 80s 13s/step - loss: 7.9212\n",
      "\n",
      "Epoch 00008: loss improved from 7.92231 to 7.92135, saving model to ./data/weights-improvement-08-7.9214.hdf5\n",
      "Epoch 9/19\n",
      "6/6 [==============================] - 86s 14s/step - loss: 7.9084\n",
      "\n",
      "Epoch 00009: loss improved from 7.92135 to 7.90734, saving model to ./data/weights-improvement-09-7.9073.hdf5\n",
      "Epoch 10/19\n",
      "6/6 [==============================] - 88s 15s/step - loss: 7.8949\n",
      "\n",
      "Epoch 00010: loss improved from 7.90734 to 7.89984, saving model to ./data/weights-improvement-10-7.8998.hdf5\n",
      "Epoch 11/19\n",
      "6/6 [==============================] - 89s 14s/step - loss: 7.8917\n",
      "\n",
      "Epoch 00011: loss improved from 7.89984 to 7.89109, saving model to ./data/weights-improvement-11-7.8911.hdf5\n",
      "Epoch 12/19\n",
      "6/6 [==============================] - 98s 16s/step - loss: 7.8854\n",
      "\n",
      "Epoch 00012: loss improved from 7.89109 to 7.88820, saving model to ./data/weights-improvement-12-7.8882.hdf5\n",
      "Epoch 13/19\n",
      "6/6 [==============================] - 96s 15s/step - loss: 7.8703\n",
      "\n",
      "Epoch 00013: loss improved from 7.88820 to 7.88021, saving model to ./data/weights-improvement-13-7.8802.hdf5\n",
      "Epoch 14/19\n",
      "6/6 [==============================] - 83s 14s/step - loss: 7.8742\n",
      "\n",
      "Epoch 00014: loss improved from 7.88021 to 7.87712, saving model to ./data/weights-improvement-14-7.8771.hdf5\n",
      "Epoch 15/19\n",
      "6/6 [==============================] - 85s 13s/step - loss: 7.8709\n",
      "\n",
      "Epoch 00015: loss improved from 7.87712 to 7.87461, saving model to ./data/weights-improvement-15-7.8746.hdf5\n",
      "Epoch 16/19\n",
      "6/6 [==============================] - 83s 14s/step - loss: 7.8728\n",
      "\n",
      "Epoch 00016: loss improved from 7.87461 to 7.87167, saving model to ./data/weights-improvement-16-7.8717.hdf5\n",
      "Epoch 17/19\n",
      "6/6 [==============================] - 175s 31s/step - loss: 7.8626\n",
      "\n",
      "Epoch 00017: loss improved from 7.87167 to 7.87116, saving model to ./data/weights-improvement-17-7.8712.hdf5\n",
      "Epoch 18/19\n",
      "6/6 [==============================] - 90s 14s/step - loss: 7.8655\n",
      "\n",
      "Epoch 00018: loss improved from 7.87116 to 7.86748, saving model to ./data/weights-improvement-18-7.8675.hdf5\n",
      "Epoch 19/19\n",
      "6/6 [==============================] - 86s 14s/step - loss: 7.8693\n",
      "\n",
      "Epoch 00019: loss did not improve from 7.86748\n"
     ]
    },
    {
     "data": {
      "text/plain": [
       "<tensorflow.python.keras.callbacks.History at 0x7fa1b1a38a90>"
      ]
     },
     "execution_count": 34,
     "metadata": {},
     "output_type": "execute_result"
    }
   ],
   "source": [
    "filepath=\"./data/weights-improvement-{epoch:02d}-{loss:.4f}.hdf5\"\n",
    "checkpoint = ModelCheckpoint(filepath, monitor = 'loss', verbose = 1, save_best_only = True, mode = 'min')\n",
    "callbacks_list = [checkpoint]\n",
    "\n",
    "model.fit(X, Y, epochs = 19, batch_size = 512, callbacks = callbacks_list)"
   ]
  },
  {
   "cell_type": "markdown",
   "id": "90ceb30f",
   "metadata": {},
   "source": [
    "For saving the optimized weights, we will be saving them in the *.hdf5* file format, which is used to store and organize large amount of data."
   ]
  },
  {
   "cell_type": "code",
   "execution_count": 64,
   "id": "c451b421",
   "metadata": {},
   "outputs": [],
   "source": [
    "model_path = './data/weights-improvement-19-7.8648.hdf5'\n",
    "model = load_model(model_path)"
   ]
  },
  {
   "cell_type": "markdown",
   "id": "453c669d",
   "metadata": {},
   "source": [
    "At this point the training times could not be handled well by my machine, so I have decided to cut it to a loss of *7.8648* which is okay but it could be better with more computational power."
   ]
  },
  {
   "cell_type": "code",
   "execution_count": 95,
   "id": "703c959d",
   "metadata": {},
   "outputs": [],
   "source": [
    "# checkpoint = ModelCheckpoint(file_path, monitor='less', verbose=1, save_best_only=True, mode='min')\n",
    "# callbacks_list = [checkpoint]\n",
    "# latest_model.fit(X, Y, epochs = 50, batch_size=64, callbacks=callbacks_list)"
   ]
  },
  {
   "cell_type": "markdown",
   "id": "51190b51",
   "metadata": {},
   "source": [
    "#### 1.3 Molecule Generation via the model 🧪  \n",
    "We have trained and loaded the model. Now our goal is to \"come up\" with a molecule of a similar structure to the one of *Amantadine*.  \n",
    "Firstly, we will induce some randomness in the generation as to come up with different molecules each time we want to generate one. So we will be selecting a starting index by using randomness. The seed that comes from that index would serve as our pattern."
   ]
  },
  {
   "cell_type": "code",
   "execution_count": 67,
   "id": "7ea282cf",
   "metadata": {},
   "outputs": [
    {
     "name": "stdout",
     "output_type": "stream",
     "text": [
      "Seed:\n",
      "\" C1C2C(CC2(F)F)(CN1)NCC(=C)N1C2CC3CC1CC(C3)(C2)FCC1C2CCCC1(C(CC2)O)NC1C2CC3CC(C2)(CC1C3N=O)ClCC(=C)C12CC3CC(C1)C(=C)C(C3)C2C1C2CC3CC1CC(C2)N(C3)NCC(CC1C2CC3CC(C2)CC1C3)ClCC1CC2(C1CC(C2)N)NC1C2CC3(CC4CC2(C3)C1C(=O)O4)NCC1(CC2CCCC(=C1)C2)NC1C2CC1C(C3CC2C3)NCNC1CCC2CCCC23C1CC3CN1C=NOC12C3CC4CC2CN(C4)C3CCCCC12CC3CCC(C1)CC(C3)(C2)CC1C2CC3(CC1C[N+](C2)(C3)CN)OC1C2CC3(CC1CC(C2)(C3)C(=O)N)CNC1C2CC3CC1C(C(C2)C3=O)OCClCC(C12CC3CC(C1)CC(C3)C2)[SiH](O)OCC(=O)S(=O)C12CC3CC(C1)CC(C3)C2C1CC23CCCC24CC5CC(C4)CC3(C1)C5C=C1C2CC3CC4(C2)CC1(C3)C4CC1C2CC3CC(C2)CC1(C3)O[SiH](C)CC1C2CN3CC1(CN(C2)N3)NC1C2CC3CC(C2)(CC1CC3N=O)OC1C2CC3C4C1C5CC(C4)C3C5C2CC(C)C1(C2CC3CC1CC(C3)(C2)C)CC1CC2C3C1C4CC(C3)CC2C4CNC1C2CC3CC(C2)(CC1C(C3N=O)N=O)ClCC12CC3CC(C1)(CC(C3)(C2)[SiH3])CC1C2CC3CN(C2)CC1CC3OC=OCC1=NC2(C3CC4CC2CN(C4)C3)ON1CC1CC2(CC3C2C1CC3)CCC12CC3C14C(C3)(CC4(C2)O)OCC1CC2(CC3CC(C2)CC1C3)CCC(C12CC3CC(C1)CC(C3)C2)OCC1C2CC3CC1CC(C2)C(C3N=O)N=OCC12CC3CC(C1)CC(C3)(C2)C(C)(C)CCC12CC3CC(C1)CC(C3)(C2)C=OC1C2CC3(CC1CC(C2)(C3)ON)OCC12CC3CC(C1)CC(C3)(C2)CCOCC=C1C2CC3CC(C2)CC(C3)O1C1=C2C=C3C4C2C=C5C1C3C5=C4CC1C2CC3CC1CC(C2)OC3=O[C-]#[N+]C1CC2CC3CC1CC(C3)(C2)NCC1CC2C3C2CCC1CC3C1C2CC3CC1CC(C2)C(C3C=O)OC1C2CC3(CC(CC1(C3)N)OC2=O)OC[SiH](C)C12CC3CC(C1)CC(C3)C2CC(=O)OC12CC3CCC(C1)CC(C3)C2CN1CC23C1CC(C2C3)NCC1CC2CCC3C1CC(C2)C3CC12CC3CC(C1)CC(C3)C2N=OCC1(C2CC3CC(C2)CC(C3)C1=C)CC1CCC(CC1)(C2CC3CCC2CC3)NCC(C#N)C12CC3CC(C1)CC(C3)C2CCC12CC3CC(C1)C(C(C3)(C2)C)CC1C2CC3CC(C2)(CC1C3CO)COC1C2CC3C1CC34CC4C=C2CC=NC1C2CC3CC1CC(C3)(C2)OC1CC2CC3CC1CC3C(C2)NCC1(C2CC3CC(C2)OC(=O)C1C3)CCC12CC3CCC(C1)CC(C3)(C2)NCC1CC2CC(C1=O)CC(C2)(C)NCCCC12CC3CCC(C1)CC(C3)(C2)CCC12CC3CC(O1)(CC(C2)C3N=O)OCC1(CC(C2C1CC2)N)CCC1C2CC3CC(C2)C=C1C3CC(C(C12CC3CC(C1)CC(C3)C2)F)(F)FCC(=O)NC1C2CN3CC1CN(C2)C3C1=CC2=C3C=C1C4=CC5=C3C2C5=C4C1C2C3C4C2=CC1=CC5=C3C4C5CCC1(C2CC3C24C1CC4C3)OC1C2CC3CC1CC(C2)(C3)OCSCC1=C2C=CC(=C1OS(=O)(=O)O2)NC1C2CC3CC1CC(C2)(C3=O)BrC1C2CC3CC1OC(O2)(O3)CNC1C2CC3CC(C2)(CC1C(=O)O3)OCSC1C2CC3(CC1CC(C2)(C3)O)CO[N+](=O)[O-]C1C2CC3(CC1CC(C2)(C3)Br)OC=OCC(C)C(C12CC3CC(C1)CC(C3)C2)OC1C2CC3CC1CC(C2)(C3)SC(F)FC1C2CC3CC1CC(C2)(C3)NCC(C)N1C2CC3CC1CC(C2)O3CC1(C2CC3CC1CC(C3)(C2)O)C=CCC1(C2CC3CC1CC(C3)(C2)C(C)(C)C)OCOCCOC12CC3CC(C1)CC(C3)C2CS(=O)(=O)N1C2CC3CC(C2)CC1C3CC(=O)C1C2CC3CC1CC(C3)(C2)OCC(=O)C1C2CC3(CC1CC(C2)(C3)O)OCC1CC2CCC(C(C1)C2)CNC1CC2C3CC1CC(C3)(CC2N)OC1CC2C3CC1CC(C3)CC2NC1C2(CN3CN1CN(C2)C3)PCC12CC3CC(C1)(C(=O)OC(C3)(C2)C)CCC(OC12CC3CC(C1)C(=O)OC(C3)C2)SCC(OC12CC3CC(C1)CC(C3)(C2)O)SCC1CC2CC(C1)(CC(C2)(C)N)CCC12CC3CC(N1O)CC(C2)C3NCN(C)C12CCC3CCC(C1)CC3C2CC(C)C12CC3CC(C1)(CC(C3)(C2)OC)CCC(C)C(C12CC3CC(C1)CC(C3)C2)OCN1C2CCC23C1CC(C3)NC1CC(C2CCC23C1CC3)NCC1(C2CC3CC1(CC(C2)(OC3=O)C)C)CCC1(C2(CC3CC1(CC(C2)OC3=O)C)C)CCC1(C2CC3CC(CC1(C3)C)(C(=O)O2)C)CC1C2CC3CC(C2)(CC1C(=O)O3)ICCC12CC3CC(C1)(CC(C3)(C2)N=C)CC1C2CC3CC1CC(C2)C3CICC12CC3CC(C1)(CC(C3)(C2)O[N+](=O)[O-])NCCC(=O)C12CC3CC(C1)CC(C3)(C2)ClCC#CNC12CC3CC(C1)CC(C3)C2CC=CNC12CC3CC(C1)CC(C3)C2CC1C2(CC3CC(C2)CC1(C3)O[N+](=O)[O-])OC1C=CC2CC1CC(C2)NCC1(C2CC3CC(C2=O)CC1C3=O)OC1C2CC3CC1CC(C2)C3=C(F)FC1C2CC3(CC1CC(C2)(O3)O)OC1C2CC3CC1C(C(C2)N3)OC1C2CC3CC1CC(C2)(C3)OC=NC=CCCC12CC3CC(C1)CC(C3)C2CC12CC3CC(N1O)CC(C2)C3OCOC=CC12CC3CC(C1)CC(C3)C2C1C2CC3C(C1CC(C2)(C3Br)Cl)BrC1C2CC3CC1CC(C2)(C3)C(=O)ON=OCC1(CC1)C2C3CC4CC(C3)CC2C4C1CC12C3CC4CC(C3)CC2(C4)OC1C2C1C3C4C3C5CC5C2C6C4C6CCN=CC12CC3CC(C1)CC(C3)C2C1C2SC3CC1(CC(S2)S3)C=C=OC1C2CC3CC1CC(C2)(C3)C(C=O)BrC1C2CC3CC1CC(C2)(C3)C(C=O)FCNN=CC12CC3CC(C1)CC(C3)C2C1C2CC3CC1CC(C2)(C3)[N+](=CC#N)[O-]C1C2CC3CC1CC(C2)C3NBrC1CC2CC1C3=C2CC3CC12CC3(CC(C1)(C(=C)N(C2)C3)C)C \"\n"
     ]
    }
   ],
   "source": [
    "start = np.random.randint(0, len(dataX) - 1)\n",
    "pattern = dataX[start]\n",
    "print (\"Seed:\")\n",
    "print (\"\\\"\", ''.join([int_to_char[value] for value in pattern]), \"\\\"\")"
   ]
  },
  {
   "cell_type": "markdown",
   "id": "29f6cad8",
   "metadata": {},
   "source": [
    "Now that we have the seed, we are going to use our model to predict a *SMILES* of a molecule."
   ]
  },
  {
   "cell_type": "code",
   "execution_count": 116,
   "id": "7aa604de",
   "metadata": {},
   "outputs": [],
   "source": [
    "x = np.reshape(pattern, (1, len(pattern), 1))\n",
    "prediction = model.predict(x, verbose=0)\n",
    "index = np.argmax(prediction)\n",
    "result = int_to_char[index]"
   ]
  },
  {
   "cell_type": "code",
   "execution_count": 117,
   "id": "9fea7d1a",
   "metadata": {},
   "outputs": [
    {
     "data": {
      "text/plain": [
       "'CC12CC3CC(C1)(CC(C3)(C2)N)C'"
      ]
     },
     "execution_count": 117,
     "metadata": {},
     "output_type": "execute_result"
    }
   ],
   "source": [
    "result"
   ]
  },
  {
   "cell_type": "markdown",
   "id": "c24b84a3",
   "metadata": {},
   "source": [
    "This is the molecule our model has \"synthesized\". In fact, the molecule we have generated, actually does exist. (<a href=\"https://www.ebi.ac.uk/pdbe-srv/pdbechem/chemicalCompound/show/377\">Source</a>)  \n",
    "We can further prove that by generating a molecule from the *SMILES* notation."
   ]
  },
  {
   "cell_type": "code",
   "execution_count": 119,
   "id": "c5e9ea8f",
   "metadata": {},
   "outputs": [
    {
     "data": {
      "image/png": "[encoded data removed]",
      "text/plain": [
       "<Figure size 144x144 with 1 Axes>"
      ]
     },
     "metadata": {
      "needs_background": "light"
     },
     "output_type": "display_data"
    }
   ],
   "source": [
    "new_smiles = result\n",
    "new_smiles = Chem.MolFromSmiles(result)\n",
    "\n",
    "Draw.MolToMPL(new_smiles, size=(200, 200));"
   ]
  },
  {
   "cell_type": "markdown",
   "id": "38467a1d",
   "metadata": {},
   "source": [
    "## Overview  \n",
    "In this extra piece of experimentation, we tried to synthesize a new molecule - a compound similar to the current best known drug against the *Influenza virus A* - ***Amantadine***. We have successfully generated a molecule after we trained a *LSTM* neural network. Although the drug already exists, it was still a really cool experiment."
   ]
  }
 ],
 "metadata": {
  "kernelspec": {
   "display_name": "Python 3",
   "language": "python",
   "name": "python3"
  },
  "language_info": {
   "codemirror_mode": {
    "name": "ipython",
    "version": 3
   },
   "file_extension": ".py",
   "mimetype": "text/x-python",
   "name": "python",
   "nbconvert_exporter": "python",
   "pygments_lexer": "ipython3",
   "version": "3.7.10"
  }
 },
 "nbformat": 4,
 "nbformat_minor": 5
}
