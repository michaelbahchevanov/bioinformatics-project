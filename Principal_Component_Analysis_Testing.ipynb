{
 "cells": [
  {
   "cell_type": "markdown",
   "id": "31db0ce7",
   "metadata": {},
   "source": [
    "# Bioinformatics Project - Computational Drug Discovery - Influenza virus A matrix protein M2  \n",
    "Michael Bahchevanov  \n",
    "***"
   ]
  },
  {
   "cell_type": "markdown",
   "id": "85892718",
   "metadata": {},
   "source": [
    "## Principal Component Analysis 🧩  \n",
    "This notebook will be conducting a **Principal Component Analysis (*PCA*)**. We will be looking for which features or combination of features are correlated in the training data set."
   ]
  },
  {
   "cell_type": "markdown",
   "id": "0977090f",
   "metadata": {},
   "source": [
    "### 1. Data Scaling and Correlation Matrix Formation 🔎  \n",
    "The current data consists of 3 main sets:\n",
    "1. The **training** set - consisting of binders only  \n",
    "2. The **test/validation** set - consisting of binders only  \n",
    "3. The **decoy** set - consisting of molecules assumed to be non-binders only"
   ]
  },
  {
   "cell_type": "markdown",
   "id": "09926d7b",
   "metadata": {},
   "source": [
    "#### 1.1 Importing Libraries and Tooling 🔨   \n",
    "We will be using *sklearn* for the conduction of the anlysis, as well as other machine learning tasks, *pandas* for data wrangling, *numpy* for computation, and *matplotlib* for visualization."
   ]
  },
  {
   "cell_type": "code",
   "execution_count": 2,
   "id": "71f2b3f1",
   "metadata": {},
   "outputs": [],
   "source": [
    "import numpy as np\n",
    "import pandas as pd\n",
    "import matplotlib.pyplot as plt\n",
    "%matplotlib inline\n",
    "\n",
    "import sklearn\n",
    "from sklearn.model_selection import train_test_split"
   ]
  },
  {
   "cell_type": "code",
   "execution_count": 8,
   "id": "b909cc9b",
   "metadata": {},
   "outputs": [],
   "source": [
    "import warnings\n",
    "warnings.filterwarnings('ignore')\n",
    "\n",
    "pd.set_option('display.max_columns', None)\n",
    "pd.set_option('display.max_rows', None)\n",
    "\n",
    "np.random.seed(42)"
   ]
  },
  {
   "cell_type": "markdown",
   "id": "0bf61cf0",
   "metadata": {},
   "source": [
    "#### 1.2 Loading in the Morgan Matrix , Decoy, and Training/Testing Data"
   ]
  },
  {
   "cell_type": "code",
   "execution_count": 5,
   "id": "d20eb266",
   "metadata": {},
   "outputs": [],
   "source": [
    "morgan_matrix_train_test = pd.read_csv('./data/influenza_virus_A_matrix_M2_protein_06_morgan_matrix.csv')\n",
    "morgan_matrix_decoy = pd.read_csv('./data/5HT1A_02_morgan_matrix.csv')\n",
    "df_train_test = pd.read_csv('./data/influenza_virus_A_matrix_M2_protein_07_training_data.csv')\n",
    "df_decoy = pd.read_csv('./data/5HT1A_03_decoy_data.csv')"
   ]
  },
  {
   "cell_type": "markdown",
   "id": "d6068eec",
   "metadata": {},
   "source": [
    "#### 1.3 Feature Selection  \n",
    "Here we will be selecting only the relevant features, as well as applying some **One-hot Encoding** on the *standard_value* columns of the sets."
   ]
  },
  {
   "cell_type": "code",
   "execution_count": 7,
   "id": "0275817e",
   "metadata": {},
   "outputs": [],
   "source": [
    "smiles_train_test = df_train_test['canonical_smiles']\n",
    "smiles_train_test = smiles_train_test.reset_index()['canonical_smiles']\n",
    "affinity_train_test = df_train_test['standard_value']\n",
    "\n",
    "binding_treshold = 1000\n",
    "affinity_train_test = affinity_train_test.apply(lambda x: 0 if x < 1000 else 1)\n",
    "\n",
    "smiles_decoy = df_decoy['canonical_smiles']\n",
    "smiles_decoy = smiles_decoy.reset_index()['canonical_smiles']\n",
    "affinity_decoy = pd.Series([0 for i in range(len(smiles_decoy))])"
   ]
  },
  {
   "cell_type": "markdown",
   "id": "91b56c4a",
   "metadata": {},
   "source": [
    "#### 1.4 Splitting Data  \n",
    "We will be using *sklearn's* tool for splitting our data into training and testing."
   ]
  },
  {
   "cell_type": "code",
   "execution_count": 9,
   "id": "842e9048",
   "metadata": {},
   "outputs": [],
   "source": [
    "X_train, X_test, y_train, y_test = train_test_split(morgan_matrix_train_test, affinity_train_test)"
   ]
  },
  {
   "cell_type": "code",
   "execution_count": 10,
   "id": "0155c0b8",
   "metadata": {},
   "outputs": [
    {
     "data": {
      "text/plain": [
       "(10, 2048)"
      ]
     },
     "execution_count": 10,
     "metadata": {},
     "output_type": "execute_result"
    }
   ],
   "source": [
    "X_train.shape"
   ]
  },
  {
   "cell_type": "code",
   "execution_count": 11,
   "id": "9e13c9b3",
   "metadata": {
    "scrolled": true
   },
   "outputs": [
    {
     "data": {
      "text/plain": [
       "(14, 2048)"
      ]
     },
     "execution_count": 11,
     "metadata": {},
     "output_type": "execute_result"
    }
   ],
   "source": [
    "morgan_matrix_train_test.shape"
   ]
  },
  {
   "cell_type": "markdown",
   "id": "c6ddef32",
   "metadata": {},
   "source": [
    "#### 1.5 Data Scaling  \n",
    "Before we do the **principal component analysis**, we need to scale all columns of the training set to have 0 **mean** and **unit standard deviation**. We will be using these to also scale the **decoy** set. This will be done using *sklearn's* `StandardScaler`. Afterwards, we will be using the column **means** and **stds** to scale the sets. Finally, we will delete the columns in the matrices that correspond to columns with 0 **std**."
   ]
  },
  {
   "cell_type": "code",
   "execution_count": 12,
   "id": "e7662181",
   "metadata": {},
   "outputs": [],
   "source": [
    "from sklearn.preprocessing import StandardScaler"
   ]
  },
  {
   "cell_type": "code",
   "execution_count": 13,
   "id": "74a7ed88",
   "metadata": {},
   "outputs": [],
   "source": [
    "scaler = StandardScaler().fit(X_train)\n",
    "X_train = scaler.transform(X_train)\n",
    "X_test = scaler.transform(X_test)\n",
    "morgan_matrix_decoy = scaler.transform(morgan_matrix_decoy)"
   ]
  },
  {
   "cell_type": "code",
   "execution_count": 18,
   "id": "64c885db",
   "metadata": {},
   "outputs": [],
   "source": [
    "cols_to_delete = []\n",
    "for i in range(X_train.shape[1]):\n",
    "    if X_train[:, i].std() == 0.0:\n",
    "        cols_to_delete.append(i)"
   ]
  },
  {
   "cell_type": "code",
   "execution_count": 20,
   "id": "0da66bb2",
   "metadata": {
    "scrolled": true
   },
   "outputs": [
    {
     "data": {
      "text/plain": [
       "1961"
      ]
     },
     "execution_count": 20,
     "metadata": {},
     "output_type": "execute_result"
    }
   ],
   "source": [
    "len(cols_to_delete)"
   ]
  },
  {
   "cell_type": "code",
   "execution_count": 21,
   "id": "a185913b",
   "metadata": {},
   "outputs": [],
   "source": [
    "def delete_columns(matrix, selection_cols):\n",
    "    return np.delete(matrix, selection_cols, axis=1)"
   ]
  },
  {
   "cell_type": "code",
   "execution_count": 22,
   "id": "aef3602c",
   "metadata": {},
   "outputs": [],
   "source": [
    "X_train = delete_columns(X_train, cols_to_delete)\n",
    "X_test = delete_columns(X_test, cols_to_delete)\n",
    "morgan_matrix_decoy = delete_columns(morgan_matrix_decoy, cols_to_delete)"
   ]
  }
 ],
 "metadata": {
  "kernelspec": {
   "display_name": "Python 3",
   "language": "python",
   "name": "python3"
  },
  "language_info": {
   "codemirror_mode": {
    "name": "ipython",
    "version": 3
   },
   "file_extension": ".py",
   "mimetype": "text/x-python",
   "name": "python",
   "nbconvert_exporter": "python",
   "pygments_lexer": "ipython3",
   "version": "3.7.10"
  }
 },
 "nbformat": 4,
 "nbformat_minor": 5
}
